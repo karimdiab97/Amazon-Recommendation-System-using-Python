{
 "cells": [
  {
   "cell_type": "markdown",
   "id": "95510291",
   "metadata": {},
   "source": [
    "#### Amazon Recommendation System using Python\n"
   ]
  },
  {
   "cell_type": "markdown",
   "id": "164f45bc",
   "metadata": {},
   "source": [
    "\n",
    "Recommendation Systems are one of the widely used applications of Data Science in most companies based on products and online services. Amazon is a great example of such companies. Being an online shopping website Amazon needs to generate personalised recommendations to provide a better user experience. In this article, I will take you through how to create an Amazon Recommendation System using Python.\n",
    "\n"
   ]
  },
  {
   "cell_type": "markdown",
   "id": "26f7f8c5",
   "metadata": {},
   "source": [
    "# Amazon Recommendation System\n"
   ]
  },
  {
   "cell_type": "raw",
   "id": "070a8b8c",
   "metadata": {},
   "source": [
    "The Recommendation System of Amazon follows the principle of generating product based recommendations which means measuring the similarities between two products and then recommend the most similar products to each user. The methods of measuring similarities between two products have always been a major focus of researchers.\n",
    "\n",
    "But when it comes to a website like Amazon, it needs to add more criteria to recommend products to the users such as the quality of the product. A good quality product will always have a good collection of reviews so we can use both the similarity score and product reviews to generate recommendations. In the section below, I will take you through how to create an Amazon Recommendation System using Python."
   ]
  },
  {
   "cell_type": "markdown",
   "id": "822f169a",
   "metadata": {},
   "source": [
    "# Amazon Recommendation System using Python\n"
   ]
  },
  {
   "cell_type": "raw",
   "id": "9e8e7e0f",
   "metadata": {},
   "source": [
    "I will try to use the fewer Python libraries I can for creating this recommendation system. To work with data I will be using only pandas and NumPy library in Python. So let’s import the data and see how to create an Amazon Recommendation System using Python:"
   ]
  },
  {
   "cell_type": "code",
   "execution_count": 1,
   "id": "9ff4aa74",
   "metadata": {},
   "outputs": [
    {
     "name": "stdout",
     "output_type": "stream",
     "text": [
      "    AKM1MP6P0OYPR  0132793040  5.0  1365811200\n",
      "0  A2CX7LUOHB2NDG  0321732944  5.0  1341100800\n",
      "1  A2NWSAGRHCP8N5  0439886341  1.0  1367193600\n",
      "2  A2WNBOD3WNDNKT  0439886341  3.0  1374451200\n",
      "3  A1GI0U4ZRJA8WN  0439886341  1.0  1334707200\n",
      "4  A1QGNMC6O1VW39  0511189877  5.0  1397433600\n"
     ]
    }
   ],
   "source": [
    "import numpy as np\n",
    "import pandas as pd\n",
    "\n",
    "data = pd.read_csv(\"amazon.csv\")\n",
    "print(data.head())"
   ]
  },
  {
   "cell_type": "markdown",
   "id": "37fc62cd",
   "metadata": {},
   "source": [
    "The dataset that I am using here does not have columns names, so let’s give the most appropriate names to these columns:"
   ]
  },
  {
   "cell_type": "code",
   "execution_count": 4,
   "id": "2567a3f2",
   "metadata": {},
   "outputs": [],
   "source": [
    "data.columns = ['user_id', 'product_id','ratings','timestamp']"
   ]
  },
  {
   "cell_type": "markdown",
   "id": "e15d5c5f",
   "metadata": {},
   "source": [
    "This dataset is very large so I will select a sample:"
   ]
  },
  {
   "cell_type": "code",
   "execution_count": 8,
   "id": "32cfd180",
   "metadata": {},
   "outputs": [],
   "source": [
    "df = data[:int(len(data) * .1)]\n"
   ]
  },
  {
   "cell_type": "markdown",
   "id": "fa40dff3",
   "metadata": {},
   "source": [
    "Now let’s prepare the dataset for creating a recommendation system:"
   ]
  },
  {
   "cell_type": "code",
   "execution_count": null,
   "id": "c3e2e681",
   "metadata": {},
   "outputs": [],
   "source": [
    "counts = df['user_id'].value_counts()\n",
    "data = df[df['user_id'].isin(counts[counts >= 50].index)]\n",
    "data.groupby('product_id')['ratings'].mean().sort_values(ascending=False) \n",
    "final_ratings = data.pivot(index = 'user_id', columns ='product_id', values = 'ratings').fillna(0)\n",
    "\n",
    "num_of_ratings = np.count_nonzero(final_ratings)\n",
    "possible_ratings = final_ratings.shape[0] * final_ratings.shape[1]\n",
    "density = (num_of_ratings/possible_ratings)\n",
    "density *= 100\n",
    "final_ratings_T = final_ratings.transpose()\n",
    "\n",
    "grouped = data.groupby('product_id').agg({'user_id': 'count'}).reset_index()\n",
    "grouped.rename(columns = {'user_id': 'score'},inplace=True)\n",
    "training_data = grouped.sort_values(['score', 'product_id'], ascending = [0,1]) \n",
    "training_data['Rank'] = training_data['score'].rank(ascending=0, method='first') \n",
    "recommendations = training_data.head()"
   ]
  },
  {
   "cell_type": "markdown",
   "id": "c1aac52e",
   "metadata": {},
   "source": [
    "Now I will write a Python function to generate recommendations based on the score of the product reviews:"
   ]
  },
  {
   "cell_type": "code",
   "execution_count": null,
   "id": "38952764",
   "metadata": {},
   "outputs": [],
   "source": [
    "def recommend(id):     \n",
    "    recommend_products = recommendations \n",
    "    recommend_products['user_id'] = id \n",
    "    column = recommend_products.columns.tolist() \n",
    "    column = column[-1:] + column[:-1] \n",
    "    recommend_products = recommend_products[column] \n",
    "    return recommend_products \n",
    "\n",
    "print(recommend(11))"
   ]
  },
  {
   "cell_type": "markdown",
   "id": "d20d3bcc",
   "metadata": {},
   "source": [
    "# Summary"
   ]
  },
  {
   "cell_type": "markdown",
   "id": "f91b5245",
   "metadata": {},
   "source": [
    "This is how we can create an Amazon Recommender System using Python. This dataset does not have names of products in it, it only had product id so the score of the product reviews becomes the most important feature for such kinds of datasets. I hope you like this article on how to create an Amazon Recommender System using Python. Feel free to ask your valuable questions in the comments section below."
   ]
  }
 ],
 "metadata": {
  "kernelspec": {
   "display_name": "Python 3 (ipykernel)",
   "language": "python",
   "name": "python3"
  },
  "language_info": {
   "codemirror_mode": {
    "name": "ipython",
    "version": 3
   },
   "file_extension": ".py",
   "mimetype": "text/x-python",
   "name": "python",
   "nbconvert_exporter": "python",
   "pygments_lexer": "ipython3",
   "version": "3.9.13"
  }
 },
 "nbformat": 4,
 "nbformat_minor": 5
}
